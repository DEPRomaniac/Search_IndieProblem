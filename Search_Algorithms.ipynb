{
 "cells": [
  {
   "cell_type": "code",
   "execution_count": 2,
   "id": "veterinary-surveillance",
   "metadata": {},
   "outputs": [
    {
     "data": {
      "text/html": [
       "<style>.text_cell .rendered_html * {direction: rtl; text-align: right;}</style>\n"
      ],
      "text/plain": [
       "<IPython.core.display.HTML object>"
      ]
     },
     "metadata": {},
     "output_type": "display_data"
    }
   ],
   "source": [
    "%%html\n",
    "<style>.text_cell .rendered_html * {direction: rtl; text-align: right;}</style>"
   ]
  },
  {
   "cell_type": "markdown",
   "id": "american-accordance",
   "metadata": {},
   "source": [
    "# پروژه ۱:\n",
    "در این پروژه به بررسی چند الگوریتم جستوجوی آگاهانه و ناآگاهانه میپردازیم و الگوریتم های جستوجوی ناآگاهانه BFS و IDS و آگاهانه ی A* را پیاده سازی کرده ایم."
   ]
  },
  {
   "cell_type": "markdown",
   "id": "favorite-average",
   "metadata": {},
   "source": [
    "### دریافت ورودی ها:"
   ]
  },
  {
   "cell_type": "code",
   "execution_count": 22,
   "id": "painful-taxation",
   "metadata": {},
   "outputs": [],
   "source": [
    "import time"
   ]
  },
  {
   "cell_type": "code",
   "execution_count": 143,
   "id": "timely-moore",
   "metadata": {},
   "outputs": [
    {
     "name": "stdout",
     "output_type": "stream",
     "text": [
      "30 30\n"
     ]
    }
   ],
   "source": [
    "f = open(\"Tests/4.txt\", \"r\")\n",
    "n, m = list(map(int,f.readline().split()))\n",
    "s_pos = tuple(map(int,f.readline().split()))\n",
    "f_pos = tuple(map(int,f.readline().split()))\n",
    "c = int(f.readline())\n",
    "k = int(f.readline())\n",
    "# print(k)\n",
    "orb_pos = dict()\n",
    "for i in range(k):\n",
    "    pos = tuple(map(int,f.readline().split())) #(y1,x1,y2,x2)\n",
    "    orb_pos[i] = pos\n",
    "    \n",
    "map_ = list()\n",
    "for line in f:\n",
    "    line = line.replace(\" \", \"\")\n",
    "    map_.append(line[:-1])\n",
    "border_x = len(map_[0])\n",
    "border_y = len(map_)\n",
    "\n",
    "print ( border_x, border_y)\n",
    "    \n",
    "f.close()"
   ]
  },
  {
   "cell_type": "markdown",
   "id": "forced-paint",
   "metadata": {},
   "source": [
    "\n",
    "در بالا عملیات گرفتن ورودی ها انجام شده است."
   ]
  },
  {
   "cell_type": "markdown",
   "id": "confident-corps",
   "metadata": {},
   "source": [
    "### تعریف کلاس State:"
   ]
  },
  {
   "cell_type": "code",
   "execution_count": 144,
   "id": "flying-assessment",
   "metadata": {},
   "outputs": [],
   "source": [
    "class State:\n",
    "    def __init__(self, x, y, cap, car_orbs, del_orbs):\n",
    "        self.x = x\n",
    "        self.y = y\n",
    "        self.cap = cap\n",
    "        self.car_orbs = car_orbs\n",
    "        self.del_orbs = del_orbs\n",
    "    \n",
    "    def __hash__(self):\n",
    "        return hash((self.x, self.y, self.cap, self.car_orbs, self.del_orbs))\n",
    "    def __eq__(self, other):\n",
    "        return (self.x, self.y, self.cap, self.car_orbs, self.del_orbs) == (other.x, other.y, other.cap, other.car_orbs, other.del_orbs)\n",
    "#         return (self.x, self.y) == (other.x, other.y)\n",
    "        \n",
    "    def __ne__(self, other):\n",
    "        return not(self == other)\n",
    "    \n",
    "    def __lt__(self, other):\n",
    "        return self.cap < other.cap\n"
   ]
  },
  {
   "cell_type": "markdown",
   "id": "interpreted-latin",
   "metadata": {},
   "source": [
    "در بالا کلاس State برای معرفی هر حالت در طول جستوجوی ما تعریف شده است.\n",
    "\n",
    "هر حالت دارای مختصات x,y میباشد\n",
    "\n",
    "cap عبارت است از ظرفیت باقی مانده ایندی برای برداشتن گوی های بعدی است\n",
    "\n",
    "car_orbs بصورت tuple ای از ۰ و ۱ است که اندیس iام این آرایه مشخص میکند که آیا گوی iام همراه ایندی است یا خیر.\n",
    "\n",
    "del_orbs نیز همانند car_orbs تاپلی از ۰ و ۱ است که مشخص میکند کدام گوی ها به مقصد رسیده اند.\n",
    "\n",
    "توابع hash و ne و eq  معرفی شده اند تا از این کلاس بتوان بعنوان کلید دیکشنری استفاده کرد.\n",
    "\n",
    "تابع lt برای رفع ارور در heapify کردن در بخش A* استفاده شده است."
   ]
  },
  {
   "cell_type": "markdown",
   "id": "medical-camel",
   "metadata": {},
   "source": [
    "### تعریف شرایط آغاز و خاتمه:"
   ]
  },
  {
   "cell_type": "code",
   "execution_count": 145,
   "id": "graduate-found",
   "metadata": {},
   "outputs": [
    {
     "name": "stdout",
     "output_type": "stream",
     "text": [
      "()\n"
     ]
    }
   ],
   "source": [
    "init_car_orbs = tuple([0 for i in range(k)])\n",
    "init_del_orbs = tuple([0 for i in range(k)])\n",
    "\n",
    "fin_car_orbs = tuple([0 for i in range(k)])\n",
    "fin_del_orbs = tuple([1 for i in range(k)])\n",
    "\n",
    "init_state = State(s_pos[1], s_pos[0], c, init_car_orbs, init_del_orbs)\n",
    "fin_state = State(f_pos[1], f_pos[0], c, fin_car_orbs, fin_del_orbs)\n",
    "\n",
    "dirs = ( (0,1), (1,0), (-1, 0), (0,-1)) #(x,y)\n",
    "print(init_car_orbs)"
   ]
  },
  {
   "cell_type": "markdown",
   "id": "executed-router",
   "metadata": {},
   "source": [
    "در بالا شرط آغاز یعنی initial state به این صورت تعریف شده است که در مختصات آغاز, با ظرفیت c و به ازای هر گوی مقادیر carry و delivered صفر میباشند.\n",
    "\n",
    "شرط پایان یعنی finish state نیز با مختصات خانه پایان, ظرفیت c, گوی های carry صفر و گوی های delivered یک تعریف شده است.\n",
    "\n",
    "تاپل dirs برای مشخص کردن جهتهای قابل جستوجو بکار رفته است.\n"
   ]
  },
  {
   "cell_type": "markdown",
   "id": "stainless-conservation",
   "metadata": {
    "scrolled": true
   },
   "source": [
    "## الگوریتم A*:"
   ]
  },
  {
   "cell_type": "code",
   "execution_count": 190,
   "id": "ecological-possible",
   "metadata": {
    "scrolled": true
   },
   "outputs": [
    {
     "name": "stdout",
     "output_type": "stream",
     "text": [
      "init state heuristic is:  280\n",
      "path found with  92  steps\n",
      "seperate states :  428\n",
      "all states :  745\n",
      "0.020194053649902344\n"
     ]
    }
   ],
   "source": [
    "def h1(s):\n",
    "    inf = 999999\n",
    "    for_orb = [inf]*k\n",
    "    for i in range(k):\n",
    "        if s.car_orbs[i] == 1:\n",
    "            for_orb[i] = abs(s.x - orb_pos[i][3]) + abs(s.y - orb_pos[i][2])\n",
    "            \n",
    "        if s.car_orbs[i] == 0 and s.del_orbs[i] == 0 and s.cap > 0:\n",
    "            for_orb[i] = abs(s.x - orb_pos[i][1]) + abs(s.y - orb_pos[i][0]) + 1\n",
    "    \n",
    "    sum_of_del = 0\n",
    "    for deliv in s.del_orbs:\n",
    "        sum_of_del += deliv\n",
    "    all_orbs_delivered = (sum_of_del == k)\n",
    "    \n",
    "    if all_orbs_delivered:\n",
    "        h = abs(s.x - fin_state.x) + abs(s.y - fin_state.y)\n",
    "    else:\n",
    "        h = min(for_orb)\n",
    "    return h\n",
    "\n",
    "h2_table = {}\n",
    "def h2(s):\n",
    "    \n",
    "    inf = 999999\n",
    "    for_orb = [inf]*k\n",
    "    \n",
    "    new_car_orbs = list(s.car_orbs)\n",
    "    new_del_orbs = list(s.del_orbs)\n",
    "    \n",
    "    for i in range(k):\n",
    "        #deliver orb\n",
    "        if s.car_orbs[i] == 1:\n",
    "            new_car_orbs[i] = 0\n",
    "            new_del_orbs[i] = 1\n",
    "            new_s = State(orb_pos[i][3], orb_pos[i][2], s.cap + 1, tuple(new_car_orbs), tuple(new_del_orbs))\n",
    "            new_car_orbs[i] = 1\n",
    "            new_del_orbs[i] = 0\n",
    "            \n",
    "            for_orb[i] = abs(s.x - orb_pos[i][3]) + abs(s.y - orb_pos[i][2])\n",
    "            if new_s in h2_table:\n",
    "                for_orb[i] += h2_table[new_s]\n",
    "            else:\n",
    "                for_orb[i] += h2(new_s)\n",
    "            \n",
    "        #get orb\n",
    "        if s.car_orbs[i] == 0 and s.del_orbs[i] == 0 and s.cap > 0:\n",
    "            new_car_orbs[i] = 1\n",
    "            new_s = State(orb_pos[i][1], orb_pos[i][0], s.cap - 1, tuple(new_car_orbs), tuple(new_del_orbs))\n",
    "            new_car_orbs[i] = 0\n",
    "            \n",
    "            for_orb[i] = abs(s.x - orb_pos[i][1]) + abs(s.y - orb_pos[i][0]) + 1\n",
    "            if new_s in h2_table:\n",
    "                for_orb[i] += h2_table[new_s]\n",
    "            else:\n",
    "                for_orb[i] += h2(new_s)\n",
    "    \n",
    "    \n",
    "#     print(for_orb)\n",
    "    sum_of_del = 0\n",
    "    for deliv in s.del_orbs:\n",
    "        sum_of_del += deliv\n",
    "    all_orbs_delivered = (sum_of_del == k)\n",
    "    \n",
    "    if all_orbs_delivered:\n",
    "        h = abs(s.x - fin_state.x) + abs(s.y - fin_state.y)\n",
    "    else:\n",
    "        h = min(for_orb)\n",
    "        \n",
    "    h2_table[s] = h \n",
    "    return h\n",
    "\n",
    "alpha = 5\n",
    "def heur(s):\n",
    "    return h2(s) * alpha\n",
    "\n",
    "tick = time.time()\n",
    "print(\"init state heuristic is: \", heur(init_state))\n",
    "from heapq import heapify, heappush, heappop\n",
    "\n",
    "depth = dict()\n",
    "explored = dict()\n",
    "depth[init_state] = 0\n",
    "\n",
    "q = [(depth[init_state] + heur(init_state),init_state)]\n",
    "heapify(q)\n",
    "\n",
    "count = 0\n",
    "count2 = 0\n",
    "while len(q) > 0:\n",
    "    s = heappop(q)[1]\n",
    "    explored[s] = 1\n",
    "     \n",
    "    #finish state\n",
    "    if (s == fin_state):\n",
    "        print('path found with ', depth[s], ' steps')\n",
    "        print(\"seperate states : \" , count)\n",
    "        print(\"all states : \" , count2)\n",
    "        break\n",
    "    \n",
    "    #find orb state\n",
    "    for i in range(k):\n",
    "        if s.del_orbs[i] == 0 and s.car_orbs[i] == 0 and s.cap > 0 and s.x == orb_pos[i][1] and s.y == orb_pos[i][0]:\n",
    "            s_new = State(s.x, s.y, s.cap, s.car_orbs, s.del_orbs)\n",
    "            \n",
    "            new_car_orbs = list(s_new.car_orbs)\n",
    "            new_car_orbs[i] = 1\n",
    "            \n",
    "            s_new.car_orbs = tuple(new_car_orbs)\n",
    "            \n",
    "            s_new.cap -= 1\n",
    "            depth[s_new] = depth[s] + 1\n",
    "            if s_new not in explored:\n",
    "                count += 1\n",
    "            count2 += 1\n",
    "            explored[s_new] = 1\n",
    "            heappush(q, (depth[s_new] + heur(s_new), s_new))\n",
    "    \n",
    "    #explore\n",
    "    for dir_ in dirs:\n",
    "        if s.y+dir_[1] >= 0 and s.y + dir_[1] < border_y and s.x + dir_[0] >= 0 and s.x + dir_[0] < border_x and map_[s.y + dir_[1]][s.x + dir_[0]] == '-':\n",
    "            s_new = State(s.x, s.y, s.cap, s.car_orbs, s.del_orbs)\n",
    "            s_new.x = s.x + dir_[0]\n",
    "            s_new.y = s.y + dir_[1]\n",
    "            #deliver orb state\n",
    "            for i in range(k):\n",
    "                if s_new.x == orb_pos[i][3] and s_new.y == orb_pos[i][2] and s_new.del_orbs[i] == 0 and s_new.car_orbs[i] == 1:\n",
    "                    new_car_orbs = list(s_new.car_orbs)\n",
    "                    new_car_orbs[i] = 0\n",
    "\n",
    "                    new_del_orbs = list(s_new.del_orbs)\n",
    "                    new_del_orbs[i] = 1\n",
    "\n",
    "                    s_new.car_orbs = tuple(new_car_orbs)\n",
    "                    s_new.del_orbs = tuple(new_del_orbs)\n",
    "\n",
    "                    s_new.cap += 1\n",
    "            #___________________\n",
    "            if s_new not in explored or depth[s_new] > depth[s]+1:\n",
    "                if s_new not in explored:\n",
    "                    count += 1\n",
    "                count2 += 1\n",
    "                explored[s_new] = 1\n",
    "                depth[s_new] = depth[s] + 1\n",
    "                heappush(q, (depth[s_new] + heur(s_new), s_new))\n",
    "tock = time.time()\n",
    "print(tock - tick)\n"
   ]
  },
  {
   "cell_type": "markdown",
   "id": "frequent-freeze",
   "metadata": {
    "scrolled": true
   },
   "source": [
    "الگوریتم A* بهینه ترین الگوریتم بنظر میرسد.\n",
    "\n",
    "در اینجا استیت ها را در heap ذخیره میکنیم تا در کمترین زمان بتوانیم استیت با\n",
    "f(n) \n",
    "کمتر را پیدا کنیم.\n",
    "\n",
    "۲\n",
    "heuristic\n",
    "معرفی شده است:\n",
    "h1 و h2.\n",
    "\n",
    "هوریستیک یک consistent است اما admissible نیست.\n",
    "این هوریستیک مقدار کمترین حرکت برای رسیدن به یک task انجام نشده را پیدا میکند.\n",
    "مثلا نزدیکترین گوی قابل حمل کردن یا نزدیکترین مقصد برای گوی حمل شده یا در صورت اتمام رساندن گوی ها,\n",
    "فاصله تا مختصات goal را به ما میدهد.\n",
    "توجه شود که همه ی فاصله ها فاصله ی Manhattan مختصات آنها میباشد.\n",
    "\n",
    "هوریستیک ۲ admissible است.\n",
    "این هوریستیک همانند مدل TSP, کوتاهترین مسیر برای برداشتن و ارسال همه ی گوی ها و سپس رفتن به مختصات goal را پیدا میکند.\n",
    "فاصله ها همان فاصله Manhattan میباشد.\n",
    "از آنجایی محاسبه این هوریستیک هر دفعه زمان زیادی برعکس اولی لازم دارد, از یک دیکشنری برای ذخیره کردن هر حالت استفاده میکنیم.\n",
    "(h2_table)\n",
    "\n",
    "بطور کلی هوریستیک ۱ ساده تر است و زمان کمتری برای محاسبه آن لازم است اما admissible نیست\n",
    "چرا که شرط admissible بودن را ندارد.\n",
    "اما \n",
    "\n",
    "تابع heur برای Weighted A* میباشد.\n",
    "\n",
    "بقیه الگوریتم همانند قسمت DFS عه IDS پیاده سازی شده است."
   ]
  },
  {
   "cell_type": "markdown",
   "id": "sporting-porcelain",
   "metadata": {
    "scrolled": true
   },
   "source": [
    "## الگوریتم IDS:"
   ]
  },
  {
   "cell_type": "code",
   "execution_count": 157,
   "id": "annoying-proxy",
   "metadata": {},
   "outputs": [
    {
     "name": "stdout",
     "output_type": "stream",
     "text": [
      "path found with  92  steps\n",
      "seperate states :  316\n",
      "all states :  87774\n",
      "316\n",
      "Time elapsed :  1.8572685718536377\n"
     ]
    }
   ],
   "source": [
    "from queue import LifoQueue\n",
    "# from queue import Queue\n",
    "maxDepth = 1000000\n",
    "\n",
    "tick = time.time()\n",
    "\n",
    "finished = False\n",
    "count2 = 1\n",
    "for limit in range(maxDepth):\n",
    "    stack = LifoQueue()\n",
    "\n",
    "    explored = dict()\n",
    "    depth = dict()\n",
    "\n",
    "    stack.put(init_state)\n",
    "    depth[init_state] = 0\n",
    "    count = 1\n",
    "    while not stack.empty():\n",
    "        s = stack.get()\n",
    "        explored[s] = 1\n",
    "            \n",
    "        #finish state\n",
    "        if (s == fin_state):\n",
    "            print('path found with ', depth[s], ' steps')\n",
    "            print(\"seperate states : \" , count)\n",
    "            print(\"all states : \" , count2)\n",
    "            finished = True\n",
    "            print(count)\n",
    "            break\n",
    "        #limit reached\n",
    "        if depth[s] >= limit:\n",
    "            continue\n",
    "        #find orb state\n",
    "        for i in range(k):\n",
    "            if s.del_orbs[i] == 0 and s.car_orbs[i] == 0 and s.cap > 0 and s.x == orb_pos[i][1] and s.y == orb_pos[i][0]:\n",
    "                s_new = State(s.x, s.y, s.cap, s.car_orbs, s.del_orbs)\n",
    "\n",
    "                new_car_orbs = list(s_new.car_orbs)\n",
    "                new_car_orbs[i] = 1\n",
    "\n",
    "                s_new.car_orbs = tuple(new_car_orbs)\n",
    "\n",
    "                s_new.cap -= 1\n",
    "                depth[s_new] = depth[s] + 1\n",
    "                if s_new not in explored:\n",
    "                    count += 1\n",
    "                count2 += 1\n",
    "                explored[s_new] = 1\n",
    "                stack.put(s_new)\n",
    "\n",
    "        #explore\n",
    "        for dir_ in dirs:\n",
    "            if s.y+dir_[1] >= 0 and s.y + dir_[1] < border_y and s.x + dir_[0] >= 0 and s.x + dir_[0] < border_x and map_[s.y + dir_[1]][s.x + dir_[0]] == '-':\n",
    "                s_new = State(s.x, s.y, s.cap, s.car_orbs, s.del_orbs)\n",
    "                s_new.x = s.x + dir_[0]\n",
    "                s_new.y = s.y + dir_[1]\n",
    "                #deliver orb state\n",
    "                for i in range(k):\n",
    "                    if s_new.x == orb_pos[i][3] and s_new.y == orb_pos[i][2] and s_new.del_orbs[i] == 0 and s_new.car_orbs[i] == 1:\n",
    "                        new_car_orbs = list(s_new.car_orbs)\n",
    "                        new_car_orbs[i] = 0\n",
    "\n",
    "                        new_del_orbs = list(s_new.del_orbs)\n",
    "                        new_del_orbs[i] = 1\n",
    "\n",
    "                        s_new.car_orbs = tuple(new_car_orbs)\n",
    "                        s_new.del_orbs = tuple(new_del_orbs)\n",
    "\n",
    "                        s_new.cap += 1\n",
    "                #___________________\n",
    "                if s_new not in explored or depth[s_new] > depth[s]+1:\n",
    "                    if s_new not in explored:\n",
    "                        count += 1\n",
    "                    count2 += 1\n",
    "                    explored[s_new] = 1\n",
    "                    depth[s_new] = depth[s] + 1\n",
    "                    stack.put(s_new)\n",
    "    if finished == True:\n",
    "        break\n",
    "#     print(\"limit is : \", limit)\n",
    "#     print(\"count is : \", count)\n",
    "#     print(\"____________________\")\n",
    "tock = time.time()\n",
    "print(\"Time elapsed : \", tock - tick)"
   ]
  },
  {
   "cell_type": "markdown",
   "id": "coated-cannon",
   "metadata": {
    "scrolled": true
   },
   "source": [
    "در این الگوریتم بجای صف از استک استفاده شده است.\n",
    "(LifoQueue)\n",
    "\n",
    "در IDS برای optimal بودن میبایست از limit استفاده کرد که محدودیت عمق برای سرچ DFS را مشخص میکند.\n",
    "از آنجایی که هزینه هر حرکت یک واحد است, limit هر سری با پیدا نشدن شرط پایان یک واحد اضافه میشود.\n",
    "\n",
    "به ازای هر limit, یکبار بصورت کامل سرچ DFS را انجام میدهیم.\n",
    "فرق سرچ DFS با BFS اینست که از آنجایی که ترتیب عمق در بازدید استیتها رعایت نمیشود, استیت مورد بازدید همیشه بهترین عمق را ندارد بنابراین باید چندین بار بازدید شود.\n",
    "\n",
    "همچنین در IDS نباید استیت های با عمق limit گسترش داده شوند.\n",
    "\n",
    "تنها مزیت IDS نسبت به بقیه, پیچیدگی فضایی بهتر آن است."
   ]
  },
  {
   "cell_type": "markdown",
   "id": "julian-norman",
   "metadata": {
    "scrolled": true
   },
   "source": [
    "## الگوریتم BFS:"
   ]
  },
  {
   "cell_type": "code",
   "execution_count": 154,
   "id": "adequate-session",
   "metadata": {},
   "outputs": [
    {
     "name": "stdout",
     "output_type": "stream",
     "text": [
      "path found with  92  steps\n",
      "seperate states = all states :  457\n",
      "0.02174854278564453\n"
     ]
    }
   ],
   "source": [
    "from queue import Queue\n",
    "q = Queue()\n",
    "explored = dict()\n",
    "depth = dict()\n",
    "\n",
    "q.put(init_state)\n",
    "depth[init_state] = 0\n",
    "\n",
    "count = 1\n",
    "\n",
    "tick = time.time()\n",
    "while not q.empty():\n",
    "    s = q.get()\n",
    "    explored[s] = 1\n",
    "\n",
    "    #finish state\n",
    "    if (s == fin_state):\n",
    "        print('path found with ', depth[s], ' steps')\n",
    "        print(\"seperate states = all states : \" , count)\n",
    "        break\n",
    "    \n",
    "    #find orb state\n",
    "    for i in range(k):\n",
    "        if s.del_orbs[i] == 0 and s.car_orbs[i] == 0 and s.cap > 0 and s.x == orb_pos[i][1] and s.y == orb_pos[i][0]:\n",
    "            s_new = State(s.x, s.y, s.cap, s.car_orbs, s.del_orbs)\n",
    "            \n",
    "            new_car_orbs = list(s_new.car_orbs)\n",
    "            new_car_orbs[i] = 1\n",
    "            \n",
    "            s_new.car_orbs = tuple(new_car_orbs)\n",
    "            \n",
    "            count += 1\n",
    "            \n",
    "            s_new.cap -= 1\n",
    "            depth[s_new] = depth[s] + 1\n",
    "            q.put(s_new)\n",
    "    \n",
    "    #explore\n",
    "    for dir_ in dirs:\n",
    "        if s.y+dir_[1] >= 0 and s.y + dir_[1] < border_y and s.x + dir_[0] >= 0 and s.x + dir_[0] < border_x and map_[s.y + dir_[1]][s.x + dir_[0]] == '-':\n",
    "#             s_new = copy(s)\n",
    "            s_new = State(s.x, s.y, s.cap, s.car_orbs, s.del_orbs)\n",
    "            s_new.x = s.x + dir_[0]\n",
    "            s_new.y = s.y + dir_[1]\n",
    "            #deliver orb state\n",
    "            for i in range(k):\n",
    "                if s_new.x == orb_pos[i][3] and s_new.y == orb_pos[i][2] and s_new.del_orbs[i] == 0 and s_new.car_orbs[i] == 1:\n",
    "                    new_car_orbs = list(s_new.car_orbs)\n",
    "                    new_car_orbs[i] = 0\n",
    "\n",
    "                    new_del_orbs = list(s_new.del_orbs)\n",
    "                    new_del_orbs[i] = 1\n",
    "\n",
    "                    s_new.car_orbs = tuple(new_car_orbs)\n",
    "                    s_new.del_orbs = tuple(new_del_orbs)\n",
    "\n",
    "                    s_new.cap += 1\n",
    "            #___________________\n",
    "            if s_new not in explored:\n",
    "                count += 1\n",
    "                explored[s_new] = 1\n",
    "                depth[s_new] = depth[s] + 1\n",
    "                q.put(s_new)\n",
    "#             else:\n",
    "#                 print(\"explored[s_new] : \", explored[s_new])\n",
    "tock = time.time()\n",
    "print(tock - tick)"
   ]
  },
  {
   "cell_type": "markdown",
   "id": "sharing-setting",
   "metadata": {},
   "source": [
    "در الگوریتم BFS از صف برای بررسی استیت های مختلف استفاده شده است.\n",
    "\n",
    "دیکشنری explored با کلید State مشخص میکند که آیا استیت موردنظر بازدید شده یا در صف قرار گرفته شده است.\n",
    "explored کمک میکند تا از بازدید مجدد استیت های تکراری یا افتادن در لوپ جلوگیری شود.\n",
    "\n",
    "دیکشنری depth با کلید استیت, تعداد حرکتهای لازم برای رسیدن از initial state تا استیت موردنظر را نشان میدهد.\n",
    "\n",
    "count برای شمردن استیت های دیده شده است.\n",
    "\n",
    "عملیات سرچ در یک while انجام میشود که با رسیدن به شرط پایان, از آن خارج میشود.\n",
    "از آنجایی که صف FIFO است, همه ی استیت ها بترتیب صعودی depthهایشان بررسی میشوند بنابراین اولین جواب برای شرط پایان, بهترین جواب است.\n",
    "\n",
    "شرط خاتمه در ابتدای while بررسی میشود.\n",
    "(finish state)\n",
    "\n",
    "در صورتی که به پایان نرسیده باشیم, باید استیت را گسترش دهیم.\n",
    "ابتدا بررسی میکنیم که آیا در مختصات استیت گویی میتوان برداشت یا خیر\n",
    "(find orb).\n",
    "در اینصورت استیت جدید با یک حرکت بیشتر و با یک گوی همراه اضافه میشود که در صف برای بررسی قرار میگیرد.\n",
    "\n",
    "در ادامه باید استیت را در صورت امکان به ۴ جهت بالا پایین چپ راست گسترش دهیم.\n",
    "هنگام گسترش دادن باید در صورت امکان گوی های قابل رسیدن به مقصد را در استیت جدید فرستاده شده محسوب کنیم.\n",
    "اضافه شدن استیت جدید در صورتی انجام میشود که در explored قرار نگرفته باشد.\n",
    "\n",
    "از مزیتهای BFS میتوان به optimal بودن آن اشاره کرد.\n",
    " همچنین نسبت به IDS دارای زمان بهتری است.\n",
    " اما پیچیدگی فضایی آن نسبت به الگوریتمهای دیگر بیشتر است.\n"
   ]
  },
  {
   "cell_type": "markdown",
   "id": "varied-storm",
   "metadata": {},
   "source": [
    "# تست 1:\n",
    "|                       | فاصله جواب | تعداد استیت دیده شده | تعداد استیت مجزای دیده  شده | میانگین  زمان اجرا |\n",
    "|-----------------------|------------|----------------------|-----------------------------|--------------------|\n",
    "| ‌BFS                   | 20         | 256                  | 256                         | 0.009              |\n",
    "| IDS                   | 20         | 2822                 | 172                         | 0.078              |\n",
    "| A* (h1)               | 20         | 220                  | 220                         | 0.007              |\n",
    "| A* (h2)               | 20         | 55                   | 55                          | 0.003              |\n",
    "| A* (h2, $\\alpha$ = 2) | 20         | 42                   | 42                          | 0.003              |\n",
    "| A* (h2, $\\alpha$ = 5) | 20         | 42                   | 42                          | 0.002              |"
   ]
  },
  {
   "cell_type": "markdown",
   "id": "german-perception",
   "metadata": {},
   "source": [
    "# تست ۲:\n",
    "|                       | فاصله جواب | تعداد استیت دیده شده | تعداد استیت مجزای دیده  شده | میانگین  زمان اجرا |\n",
    "|-----------------------|------------|----------------------|-----------------------------|--------------------|\n",
    "| ‌BFS                   | 48         | 2304                 | 2304                        | 0.064              |\n",
    "| IDS                   | 48         | 415316               | 2303                        | 12.643             |\n",
    "| A* (h1)               | 48         | 402                  | 381                         | 0.013              |\n",
    "| A* (h2)               | 48         | 402                  | 381                         | 0.003              |\n",
    "| A* (h2, $\\alpha$ = 2) | 48         | 120                  | 120                         | 0.004              |\n",
    "| A* (h2, $\\alpha$ = 5) | 48         | 120                  | 120                         | 0.003              |"
   ]
  },
  {
   "cell_type": "markdown",
   "id": "perceived-gates",
   "metadata": {},
   "source": [
    "# تست ۳:\n",
    "|                     | فاصله جواب | تعداد استیت دیده شده | تعداد استیت مجزای دیده  شده | میانگین  زمان اجرا |\n",
    "|---------------------|------------|----------------------|-----------------------------|--------------------|\n",
    "| ‌BFS                 | 68         | 222935               | 222935                      | 5.364              |\n",
    "| IDS                 | 68         | 4518330              | 216574                      | 125.374            |\n",
    "| A* (h1)             | 68         | 142715               | 141844                      | 5.095              |\n",
    "| A* (h2)             | 68         | 167                  | 167                         | 0.178              |\n",
    "| A* (h2, $\\alpha$ = 2) | 68         | 157                  | 157                         | 0.170              |\n",
    "| A* (h2, $\\alpha$ = 5) | 68         | 157                  | 157                         | 0.159              |"
   ]
  },
  {
   "cell_type": "markdown",
   "id": "adequate-bulgaria",
   "metadata": {},
   "source": [
    "# تست ۴:\n",
    "|                       | فاصله جواب | تعداد استیت دیده شده | تعداد استیت مجزای دیده  شده | میانگین  زمان اجرا |\n",
    "|-----------------------|------------|----------------------|-----------------------------|--------------------|\n",
    "| ‌BFS                   | 92         | 457                  | 457                         | 0.013              |\n",
    "| IDS                   | 92         | 87774                | 316                         | 1.957              |\n",
    "| A* (h1)               | 92         | 470                  | 456                         | 0.019              |\n",
    "| A* (h2)               | 92         | 470                  | 456                         | 0.011              |\n",
    "| A* (h2, $\\alpha$ = 2) | 92         | 693                  | 441                         | 0.030              |\n",
    "| A* (h2, $\\alpha$ = 5) | 92         | 745                  | 428                         | 0.025              |"
   ]
  }
 ],
 "metadata": {
  "kernelspec": {
   "display_name": "Python 3",
   "language": "python",
   "name": "python3"
  },
  "language_info": {
   "codemirror_mode": {
    "name": "ipython",
    "version": 3
   },
   "file_extension": ".py",
   "mimetype": "text/x-python",
   "name": "python",
   "nbconvert_exporter": "python",
   "pygments_lexer": "ipython3",
   "version": "3.6.9"
  }
 },
 "nbformat": 4,
 "nbformat_minor": 5
}
